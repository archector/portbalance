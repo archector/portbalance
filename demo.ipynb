{
 "cells": [
  {
   "cell_type": "markdown",
   "metadata": {},
   "source": [
    "**Import required packages**"
   ]
  },
  {
   "cell_type": "code",
   "execution_count": 1,
   "metadata": {},
   "outputs": [],
   "source": [
    "import numpy as np\n",
    "import matplotlib.pyplot as plt\n",
    "%matplotlib inline\n",
    "plt.rcParams['figure.figsize'] = (10.0, 8.0) # set default size of plots\n",
    "plt.rcParams['image.interpolation'] = 'nearest'\n",
    "plt.rcParams['image.cmap'] = 'gray'\n",
    "\n",
    "\n",
    "import pandas as pd\n",
    "pd.core.common.is_list_like = pd.api.types.is_list_like  # can remove this when v0.7 of pdr is available\n",
    "import pandas_datareader.data as web\n",
    "import datetime as dt\n",
    "# Stock prices method based on https://pythonprogramming.net/getting-stock-prices-python-programming-for-finance/\n",
    "\n",
    "\n",
    "%load_ext autoreload\n",
    "%autoreload 2"
   ]
  },
  {
   "cell_type": "markdown",
   "metadata": {},
   "source": [
    "**Specific current holdings and target allocation**\n",
    "+ Specify the current holdings of each equity in the `num_shares` list\n",
    "+ The example portfolios here are provided as-is for education purposes. They do not constitute a recommended or endorsed investment stragegy"
   ]
  },
  {
   "cell_type": "code",
   "execution_count": 98,
   "metadata": {},
   "outputs": [],
   "source": [
    "\n",
    "# ## a portfolio based on the pre-2018 Betterment strategy (international heavy)\n",
    "# symbs = [\"SCHB\", \"VTI\", \"VTV\", \"VOE\", \"VBR\", \"VEA\", \"SCHF\", \"VWO\", \"IEMG\", \"VXUS\"]\n",
    "# target_alloc = [0.087, 0.087, 0.178, 0.05, 0.05, 0.205, 0.205, .0655, .0655, 0]\n",
    "# num_shares = np.array([45, 31, 42, 5, 20, 31, 32, 41, 21, 32])  ## Your current holdings of each equity (number of shares)\n",
    "\n",
    "\n",
    "\n",
    "# ## an all-stock \"lazy\" Bogleheads portfolio\n",
    "# symbs = ['VTI','SCHB','VXUS']\n",
    "# target_alloc = [.35, .35, .3]\n",
    "# num_shares = np.array([13,26,27])## Your current holdings of each equity (number of shares)\n",
    "\n",
    "\n",
    "## a portfolio based on the Betterment 2018 all-stock allocation\n",
    "symbs = ['SCHB','VTI','VXUS','VOE','VBR','VEA','VWO','VXUS']\n",
    "target_alloc = [0.1765, 0.1765, 0.094, 0.077, 0.065, 0.1295, 0.076, 0.205]\n",
    "num_shares = np.array([150,60,90,43,23,170,100,220]) ## Your current holdings of each equity (number of shares)\n",
    "\n",
    "\n",
    "df = web.DataReader(symbs, 'robinhood', dt.datetime(2015, 1, 1), dt.datetime.now()) ## If this throws 404 then the API is having problems\n",
    "curr_prices = np.array([df.loc[symb]['close_price'][-1] for symb in symbs])\n",
    "curr_prices = curr_prices.astype(float)\n",
    "curr_value = num_shares.dot(curr_prices)\n",
    "curr_alloc = (num_shares*curr_prices)/curr_value"
   ]
  },
  {
   "cell_type": "code",
   "execution_count": 99,
   "metadata": {},
   "outputs": [],
   "source": [
    "sim_shares = np.copy(num_shares)\n",
    "sim_alloc = np.copy(curr_alloc)\n",
    "num_buys = 10000\n",
    "cost = 0\n",
    "\n",
    "buy_series = list()\n",
    "cost_series = [0]\n",
    "drift_series = list()\n",
    "\n",
    "for ii in range(num_buys):\n",
    "    drift = sim_alloc - target_alloc\n",
    "    net_drift = np.sum(np.abs(drift))\n",
    "    rel_drift = (drift*curr_prices)/curr_prices\n",
    "    ordering = np.argsort(rel_drift)\n",
    "    buy_index = ordering[0]\n",
    "    \n",
    "    \n",
    "    cost += curr_prices[buy_index]\n",
    "    \n",
    "    sim_shares[buy_index] += 1\n",
    "    sim_alloc = (sim_shares*curr_prices)/(sim_shares.dot(curr_prices))\n",
    "    \n",
    "    buy_series.append(buy_index)\n",
    "    cost_series.append(cost)\n",
    "    drift_series.append(net_drift)\n",
    "cost_series = np.array(cost_series)\n",
    "buy_series = np.array(buy_series)"
   ]
  },
  {
   "cell_type": "code",
   "execution_count": 100,
   "metadata": {},
   "outputs": [
    {
     "data": {
      "text/plain": [
       "Text(0,0.5,'Total portfolio drift')"
      ]
     },
     "execution_count": 100,
     "metadata": {},
     "output_type": "execute_result"
    },
    {
     "data": {
      "image/png": "[encoded data removed]",
      "text/plain": [
       "<Figure size 432x288 with 1 Axes>"
      ]
     },
     "metadata": {},
     "output_type": "display_data"
    }
   ],
   "source": [
    "plt.figure()\n",
    "plt.loglog(cost_series[1:], drift_series,'.k', markersize=2)\n",
    "plt.xlabel('Total invested')\n",
    "plt.ylabel('Total portfolio drift')"
   ]
  },
  {
   "cell_type": "code",
   "execution_count": 101,
   "metadata": {},
   "outputs": [
    {
     "name": "stdout",
     "output_type": "stream",
     "text": [
      "Investing strategy:\n",
      "SCHB :  33\n",
      "VTI :  26\n",
      "VXUS :  30\n",
      "VOE :  6\n",
      "VBR :  11\n",
      "VEA :  39\n",
      "VWO :  23\n",
      "VXUS :  43\n",
      "\n",
      "Residual balance:  41.77000000005137\n",
      "\n",
      "Residual drift:  0.5010388104855115 %\n"
     ]
    }
   ],
   "source": [
    "sum_to_invest = 15000\n",
    "\n",
    "stop_ind = len(cost_series[cost_series<sum_to_invest])-1\n",
    "buy_series_truncated = buy_series[:stop_ind]\n",
    "inds, cts = np.unique(buy_series_truncated, return_counts=True)\n",
    "\n",
    "print(\"Investing strategy:\")\n",
    "for ind, ct in zip(inds,cts):\n",
    "    print(str(symbs[ind]), ': ', str(ct))\n",
    "\n",
    "print('\\nResidual balance: ', str(sum_to_invest - cost_series[stop_ind]))\n",
    "\n",
    "print('\\nResidual drift: ', str(100*drift_series[stop_ind]),'%')"
   ]
  },
  {
   "cell_type": "code",
   "execution_count": null,
   "metadata": {},
   "outputs": [],
   "source": []
  },
  {
   "cell_type": "code",
   "execution_count": null,
   "metadata": {},
   "outputs": [],
   "source": []
  }
 ],
 "metadata": {
  "kernelspec": {
   "display_name": "Python 3",
   "language": "python",
   "name": "python3"
  },
  "language_info": {
   "codemirror_mode": {
    "name": "ipython",
    "version": 3
   },
   "file_extension": ".py",
   "mimetype": "text/x-python",
   "name": "python",
   "nbconvert_exporter": "python",
   "pygments_lexer": "ipython3",
   "version": "3.6.5"
  }
 },
 "nbformat": 4,
 "nbformat_minor": 2
}
