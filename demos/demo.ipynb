{
 "cells": [
  {
   "cell_type": "markdown",
   "metadata": {},
   "source": [
    "**Import required packages**"
   ]
  },
  {
   "cell_type": "code",
   "execution_count": 1,
   "metadata": {},
   "outputs": [],
   "source": [
    "from portbalance import *\n",
    "from io import StringIO\n",
    "\n",
    "## For debugging\n",
    "%load_ext autoreload\n",
    "%autoreload 2"
   ]
  },
  {
   "cell_type": "markdown",
   "metadata": {},
   "source": [
    "## Initialize a portfolio"
   ]
  },
  {
   "cell_type": "code",
   "execution_count": 2,
   "metadata": {
    "scrolled": true
   },
   "outputs": [
    {
     "name": "stdout",
     "output_type": "stream",
     "text": [
      "  Ticker  NumShares         Date   BuyPrice  CurrentPrice\n",
      "0   SCHB        150   01/20/2015  45.410000         65.62\n",
      "1    VTI         60   01/26/2015  98.280000        139.72\n",
      "2   VXUS         90   03/20/2015  45.780000         50.93\n",
      "3   SCHB        150   03/20/2015  47.847683         65.62\n",
      "4    VWO         10   04/20/2015  39.080407         41.56\n",
      "5    VTI          8   04/20/2015  46.830000        139.72\n"
     ]
    }
   ],
   "source": [
    "## Load a portfolio\n",
    "inline_txt = StringIO(\"\"\"\n",
    "SCHB, 150, 01/20/2015, 45.41\n",
    "VTI, 60, 01/26/2015, 98.28\n",
    "VXUS, 90, 03/20/2015, 45.78\n",
    "SCHB, 150, 03/20/2015,\n",
    "VWO, 10, 04/20/2015,\n",
    "VTI, 8, 04/20/2015, 46.83\n",
    "\"\"\")\n",
    "\n",
    "# inline_txt = StringIO(\"\"\"\n",
    "# SCHB, 150, 01/20/2015, 45.41\n",
    "# VTI, 60, 01/26/2015, 98.28\n",
    "# VTV, 90, 03/20/2015, 45.78\n",
    "# VOE, 43, 03/20/2015,\n",
    "# VBR, 23, 04/20/2015,\n",
    "# VEA, 170, 04/20/2015,\n",
    "# VWO, 100, 04/20/2015,\n",
    "# VXUS, 220, 04/20/2015,\n",
    "# \"\"\")\n",
    "# my_portfolio = Portfolio(inline_txt)\n",
    "\n",
    "\n",
    "my_portfolio = Portfolio(inline_txt)\n",
    "\n",
    "## Alternative: load from an external CSV file in the working directory\n",
    "# port = Portfolio('../resources/sample_portfolio.txt')\n",
    "\n",
    "print(my_portfolio)"
   ]
  },
  {
   "cell_type": "markdown",
   "metadata": {},
   "source": [
    "## Calculate historical performance"
   ]
  },
  {
   "cell_type": "code",
   "execution_count": 3,
   "metadata": {},
   "outputs": [
    {
     "name": "stdout",
     "output_type": "stream",
     "text": [
      "Net return on principal: 0.3800866617119414\n"
     ]
    }
   ],
   "source": [
    "print(\"Net return on principal:\", my_portfolio.calculate_performance())"
   ]
  },
  {
   "cell_type": "markdown",
   "metadata": {},
   "source": [
    "## Initialize a target allocation / strategy"
   ]
  },
  {
   "cell_type": "code",
   "execution_count": 4,
   "metadata": {},
   "outputs": [],
   "source": [
    "## Pick a strategy (alternatively, can also write your own as a dict())\n",
    "my_strategy = get_strategy('Betterment2018', stock_ratio=1.0)"
   ]
  },
  {
   "cell_type": "markdown",
   "metadata": {},
   "source": [
    "## Calculate purchases needed for rebalancing "
   ]
  },
  {
   "cell_type": "code",
   "execution_count": 5,
   "metadata": {},
   "outputs": [
    {
     "name": "stdout",
     "output_type": "stream",
     "text": [
      "Investing strategy:\n",
      "VOE : 390\n",
      "VTI : 607\n",
      "VXUS : 2061\n",
      "VBR : 271\n",
      "VTV : 477\n",
      "SCHB : 1137\n",
      "VWO : 967\n",
      "VEA : 1730\n",
      "\n",
      "Residual balance:  42.53000004083151\n",
      "\n",
      "Residual drift:  0.03857126761147578 %\n"
     ]
    }
   ],
   "source": [
    "### Run gradient descent for a specified budget\n",
    "buying_budget = 5e5\n",
    "my_buys, drift_final, leftover_cash = my_portfolio.find_investing_strategy(buying_budget, my_strategy)\n",
    "\n",
    "### Print output\n",
    "print(\"Investing strategy:\")\n",
    "for key in my_buys:\n",
    "    print (key,':',my_buys[key])\n",
    "\n",
    "print('\\nResidual balance: ', leftover_cash)\n",
    "\n",
    "print('\\nResidual drift: ', str(100*drift_final),'%')"
   ]
  },
  {
   "cell_type": "markdown",
   "metadata": {},
   "source": [
    "## Make plots showing convergence of rebalancing (Optional)"
   ]
  },
  {
   "cell_type": "code",
   "execution_count": 6,
   "metadata": {},
   "outputs": [
    {
     "name": "stdout",
     "output_type": "stream",
     "text": [
      "Investing strategy:\n",
      "VOE : 390\n",
      "VTI : 607\n",
      "VXUS : 2061\n",
      "VBR : 271\n",
      "VTV : 477\n",
      "SCHB : 1137\n",
      "VWO : 967\n",
      "VEA : 1730\n"
     ]
    },
    {
     "data": {
      "text/plain": [
       "Text(0,0.5,'Total portfolio drift')"
      ]
     },
     "execution_count": 6,
     "metadata": {},
     "output_type": "execute_result"
    },
    {
     "data": {
      "image/png": "[encoded data removed]",
      "text/plain": [
       "<Figure size 720x576 with 1 Axes>"
      ]
     },
     "metadata": {
      "needs_background": "light"
     },
     "output_type": "display_data"
    }
   ],
   "source": [
    "buying_budget = 5e5\n",
    "my_buys, drift_series, cash_series = my_portfolio.find_investing_strategy(buying_budget, my_strategy, verbose=True)\n",
    "\n",
    "print(\"Investing strategy:\")\n",
    "for key in my_buys:\n",
    "    print (key,':',my_buys[key])\n",
    "    \n",
    "    \n",
    "    \n",
    "## Figure plotting and formatting\n",
    "import matplotlib.pyplot as plt\n",
    "%matplotlib inline\n",
    "plt.rcParams['figure.figsize'] = (10.0, 8.0) # set default size of plots\n",
    "plt.rcParams['image.interpolation'] = 'nearest'\n",
    "plt.rcParams['image.cmap'] = 'gray'\n",
    "\n",
    "plt.figure()\n",
    "plt.loglog(buying_budget - cash_series[1:], drift_series,'.k', markersize=2)\n",
    "plt.xlabel('Total invested')\n",
    "plt.ylabel('Total portfolio drift')"
   ]
  },
  {
   "cell_type": "code",
   "execution_count": null,
   "metadata": {},
   "outputs": [],
   "source": []
  }
 ],
 "metadata": {
  "kernelspec": {
   "display_name": "Python 3",
   "language": "python",
   "name": "python3"
  },
  "language_info": {
   "codemirror_mode": {
    "name": "ipython",
    "version": 3
   },
   "file_extension": ".py",
   "mimetype": "text/x-python",
   "name": "python",
   "nbconvert_exporter": "python",
   "pygments_lexer": "ipython3",
   "version": "3.6.7"
  }
 },
 "nbformat": 4,
 "nbformat_minor": 2
}
